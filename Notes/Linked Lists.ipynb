{
 "cells": [
  {
   "cell_type": "markdown",
   "metadata": {},
   "source": [
    "## Linked Lists"
   ]
  },
  {
   "cell_type": "markdown",
   "metadata": {},
   "source": [
    "Linked list is a sequence of data elements connected together via links"
   ]
  },
  {
   "cell_type": "markdown",
   "metadata": {},
   "source": [
    "### Creation of Linked Lists"
   ]
  },
  {
   "cell_type": "code",
   "execution_count": 1,
   "metadata": {},
   "outputs": [],
   "source": [
    "class Node:\n",
    "    def __init__(self, data=None):\n",
    "        self.data = data\n",
    "        self.next_val = None\n",
    "        \n",
    "class LinkedList:\n",
    "    def __init__(self):\n",
    "        self.head_val = None\n"
   ]
  },
  {
   "cell_type": "code",
   "execution_count": 10,
   "metadata": {},
   "outputs": [],
   "source": [
    "# Create a linked list\n",
    "list1 = LinkedList()\n",
    "\n",
    "# Assign a node to the head\n",
    "list1.head_val = Node(\"Monday\")\n",
    "\n",
    "# Creat two more nodes\n",
    "e2 = Node(\"Tuesday\")\n",
    "e3 = Node(\"Wednesday\")\n",
    "\n",
    "# Link the second node to the head of the linked list\n",
    "list1.head_val.next_val = e2\n",
    "# Link the third node to the second node\n",
    "e2.next_val = e3"
   ]
  },
  {
   "cell_type": "markdown",
   "metadata": {},
   "source": [
    "### Traversing a linked list"
   ]
  },
  {
   "cell_type": "code",
   "execution_count": 35,
   "metadata": {},
   "outputs": [],
   "source": [
    "class Node:\n",
    "    def __init__(self, data=None):\n",
    "        self.data = data\n",
    "        self.next_val = None\n",
    "        \n",
    "class LinkedList:\n",
    "    def __init__(self):\n",
    "        self.head_val = None\n",
    "    \n",
    "    def print_list(self):\n",
    "        print_val = self.head_val\n",
    "        while print_val:\n",
    "            print(print_val.data)\n",
    "            print_val = print_val.next_val"
   ]
  },
  {
   "cell_type": "code",
   "execution_count": 36,
   "metadata": {},
   "outputs": [],
   "source": [
    "\n",
    "list1 = LinkedList()\n",
    "list1.head_val = Node(\"Monday\")\n",
    "\n",
    "e2 = Node(\"Tuesday\")\n",
    "e3 = Node(\"Wednesday\")\n",
    "\n",
    "list1.head_val.next_val = e2\n",
    "e2.next_val = e3"
   ]
  },
  {
   "cell_type": "code",
   "execution_count": 37,
   "metadata": {},
   "outputs": [
    {
     "name": "stdout",
     "output_type": "stream",
     "text": [
      "Monday\n",
      "Tuesday\n",
      "Wednesday\n"
     ]
    }
   ],
   "source": [
    "list1.print_list()"
   ]
  },
  {
   "cell_type": "markdown",
   "metadata": {},
   "source": [
    "### Insertion to a Linked List"
   ]
  },
  {
   "cell_type": "markdown",
   "metadata": {},
   "source": [
    "#### 1) Insertion at the beginning"
   ]
  },
  {
   "cell_type": "code",
   "execution_count": 38,
   "metadata": {},
   "outputs": [],
   "source": [
    "class Node:\n",
    "    def __init__(self, data=None):\n",
    "        self.data = data\n",
    "        self.next_val = None\n",
    "        \n",
    "class LinkedList:\n",
    "    def __init__(self):\n",
    "        self.head_val = None\n",
    "    \n",
    "    def print_list(self):\n",
    "        print_val = self.head_val\n",
    "        while print_val:\n",
    "            print(print_val.data)\n",
    "            print_val = print_val.next_val\n",
    "    \n",
    "    def insert_at_beginning(self, new_data):\n",
    "        new_node = Node(new_data)\n",
    "        new_node.next_val = self.head_val\n",
    "        self.head_val = new_node"
   ]
  },
  {
   "cell_type": "code",
   "execution_count": 39,
   "metadata": {},
   "outputs": [],
   "source": [
    "list1 = LinkedList()\n",
    "list1.head_val = Node(\"Monday\")\n",
    "\n",
    "e2 = Node(\"Tuesday\")\n",
    "e3 = Node(\"Wednesday\")\n",
    "\n",
    "list1.head_val.next_val = e2\n",
    "e2.next_val = e3"
   ]
  },
  {
   "cell_type": "code",
   "execution_count": 40,
   "metadata": {},
   "outputs": [],
   "source": [
    "list1.insert_at_beginning(\"Sunday\")"
   ]
  },
  {
   "cell_type": "code",
   "execution_count": 41,
   "metadata": {},
   "outputs": [
    {
     "name": "stdout",
     "output_type": "stream",
     "text": [
      "Sunday\n",
      "Monday\n",
      "Tuesday\n",
      "Wednesday\n"
     ]
    }
   ],
   "source": [
    "list1.print_list()"
   ]
  },
  {
   "cell_type": "markdown",
   "metadata": {},
   "source": [
    "#### 2) Insertion at the end"
   ]
  },
  {
   "cell_type": "code",
   "execution_count": 42,
   "metadata": {},
   "outputs": [],
   "source": [
    "class Node:\n",
    "    def __init__(self, data=None):\n",
    "        self.data = data\n",
    "        self.next_val = None\n",
    "        \n",
    "class LinkedList:\n",
    "    def __init__(self):\n",
    "        self.head_val = None\n",
    "    \n",
    "    def print_list(self):\n",
    "        print_val = self.head_val\n",
    "        while print_val:\n",
    "            print(print_val.data)\n",
    "            print_val = print_val.next_val\n",
    "    \n",
    "    def insert_at_beginning(self, new_data):\n",
    "        new_node = Node(new_data)\n",
    "        new_node.next_val = self.head_val\n",
    "        self.head_val = new_node\n",
    "    \n",
    "    def insert_at_end(self, new_data):\n",
    "        new_node = Node(new_data)\n",
    "        if self.head_val is None:\n",
    "            self.head_val = new_node\n",
    "        else:\n",
    "            last_node = self.head_val\n",
    "            while(last_node.next_val):\n",
    "                last_node = last_node.next_val\n",
    "            last_node.next_val = new_node"
   ]
  },
  {
   "cell_type": "code",
   "execution_count": 43,
   "metadata": {},
   "outputs": [],
   "source": [
    "list1 = LinkedList()\n",
    "list1.head_val = Node(\"Monday\")\n",
    "\n",
    "e2 = Node(\"Tuesday\")\n",
    "e3 = Node(\"Wednesday\")\n",
    "\n",
    "list1.head_val.next_val = e2\n",
    "e2.next_val = e3"
   ]
  },
  {
   "cell_type": "code",
   "execution_count": 44,
   "metadata": {},
   "outputs": [],
   "source": [
    "list1.insert_at_end(\"Thursday\")"
   ]
  },
  {
   "cell_type": "code",
   "execution_count": 45,
   "metadata": {},
   "outputs": [
    {
     "name": "stdout",
     "output_type": "stream",
     "text": [
      "Monday\n",
      "Tuesday\n",
      "Wednesday\n",
      "Thursday\n"
     ]
    }
   ],
   "source": [
    "list1.print_list()"
   ]
  },
  {
   "cell_type": "markdown",
   "metadata": {},
   "source": [
    "#### 3) Insertion in between two nodes"
   ]
  },
  {
   "cell_type": "code",
   "execution_count": 46,
   "metadata": {},
   "outputs": [],
   "source": [
    "class Node:\n",
    "    def __init__(self, data=None):\n",
    "        self.data = data\n",
    "        self.next_val = None\n",
    "        \n",
    "class LinkedList:\n",
    "    def __init__(self):\n",
    "        self.head_val = None\n",
    "    \n",
    "    def print_list(self):\n",
    "        print_val = self.head_val\n",
    "        while print_val:\n",
    "            print(print_val.data)\n",
    "            print_val = print_val.next_val\n",
    "    \n",
    "    def insert_at_beginning(self, new_data):\n",
    "        new_node = Node(new_data)\n",
    "        new_node.next_val = self.head_val\n",
    "        self.head_val = new_node\n",
    "    \n",
    "    def insert_at_end(self, new_data):\n",
    "        new_node = Node(new_data)\n",
    "        if self.head_val is None:\n",
    "            self.head_val = new_node\n",
    "        else:\n",
    "            last_node = self.head_val\n",
    "            while(last_node.next_val):\n",
    "                last_node = last_node.next_val\n",
    "            last_node.next_val = new_node\n",
    "    \n",
    "    def insert_in_between(self, some_node, new_data):\n",
    "        if some_node:\n",
    "            new_node = Node(new_data)\n",
    "            new_node.next_val = some_node.next_val\n",
    "            some_node.next_val = new_node"
   ]
  },
  {
   "cell_type": "code",
   "execution_count": 47,
   "metadata": {},
   "outputs": [],
   "source": [
    "list1 = LinkedList()\n",
    "list1.head_val = Node(\"Monday\")\n",
    "\n",
    "e2 = Node(\"Tuesday\")\n",
    "e3 = Node(\"Wednesday\")\n",
    "\n",
    "list1.head_val.next_val = e2\n",
    "e2.next_val = e3"
   ]
  },
  {
   "cell_type": "code",
   "execution_count": 48,
   "metadata": {},
   "outputs": [],
   "source": [
    "list1.insert_in_between(e2, \"Holiday\")"
   ]
  },
  {
   "cell_type": "code",
   "execution_count": 49,
   "metadata": {},
   "outputs": [
    {
     "name": "stdout",
     "output_type": "stream",
     "text": [
      "Monday\n",
      "Tuesday\n",
      "Holiday\n",
      "Wednesday\n"
     ]
    }
   ],
   "source": [
    "list1.print_list()"
   ]
  },
  {
   "cell_type": "markdown",
   "metadata": {},
   "source": [
    "### Removing an item from a Linked List"
   ]
  },
  {
   "cell_type": "code",
   "execution_count": 56,
   "metadata": {},
   "outputs": [],
   "source": [
    "class Node:\n",
    "    def __init__(self, data=None):\n",
    "        self.data = data\n",
    "        self.next_val = None\n",
    "        \n",
    "class LinkedList:\n",
    "    def __init__(self):\n",
    "        self.head_val = None\n",
    "    \n",
    "    def print_list(self):\n",
    "        print_val = self.head_val\n",
    "        while print_val:\n",
    "            print(print_val.data)\n",
    "            print_val = print_val.next_val\n",
    "    \n",
    "    def insert_at_beginning(self, new_data):\n",
    "        new_node = Node(new_data)\n",
    "        new_node.next_val = self.head_val\n",
    "        self.head_val = new_node\n",
    "    \n",
    "    def insert_at_end(self, new_data):\n",
    "        new_node = Node(new_data)\n",
    "        if self.head_val is None:\n",
    "            self.head_val = new_node\n",
    "        else:\n",
    "            last_node = self.head_val\n",
    "            while(last_node.next_val):\n",
    "                last_node = last_node.next_val\n",
    "            last_node.next_val = new_node\n",
    "    \n",
    "    def insert_in_between(self, some_node, new_data):\n",
    "        if some_node:\n",
    "            new_node = Node(new_data)\n",
    "            new_node.next_val = some_node.next_val\n",
    "            some_node.next_val = new_node\n",
    "    \n",
    "    def remove_node(self, key):\n",
    "        head_val = self.head_val\n",
    "        if head_val is not None:\n",
    "            if head_val.data == key:\n",
    "                self.head_val = head_val.next_val\n",
    "                head_val = None\n",
    "                return\n",
    "        while(head_val is not None):\n",
    "            if head_val.data == key:\n",
    "                break\n",
    "            prev = head_val\n",
    "            head_val = head_val.next_val\n",
    "        if head_val == None:\n",
    "            return\n",
    "        prev.next_val = head_val.next_val\n",
    "        head_val = None"
   ]
  },
  {
   "cell_type": "code",
   "execution_count": 57,
   "metadata": {},
   "outputs": [],
   "source": [
    "list1 = LinkedList()\n",
    "list1.insert_at_beginning(\"Monday\")\n",
    "\n",
    "list1.insert_at_beginning(\"Tuesday\")\n",
    "list1.insert_at_beginning(\"Wednesday\")"
   ]
  },
  {
   "cell_type": "code",
   "execution_count": 58,
   "metadata": {},
   "outputs": [
    {
     "name": "stdout",
     "output_type": "stream",
     "text": [
      "Wednesday\n",
      "Tuesday\n",
      "Monday\n"
     ]
    }
   ],
   "source": [
    "list1.print_list()"
   ]
  },
  {
   "cell_type": "code",
   "execution_count": 59,
   "metadata": {},
   "outputs": [
    {
     "name": "stdout",
     "output_type": "stream",
     "text": [
      "Wednesday\n",
      "Monday\n"
     ]
    }
   ],
   "source": [
    "list1.remove_node(\"Tuesday\")\n",
    "list1.print_list()"
   ]
  },
  {
   "cell_type": "markdown",
   "metadata": {},
   "source": [
    " "
   ]
  },
  {
   "cell_type": "markdown",
   "metadata": {},
   "source": [
    "## Full code"
   ]
  },
  {
   "cell_type": "code",
   "execution_count": 60,
   "metadata": {},
   "outputs": [],
   "source": [
    "class Node:\n",
    "    def __init__(self, data=None):\n",
    "        self.data = data\n",
    "        self.next_val = None\n",
    "        \n",
    "class LinkedList:\n",
    "    def __init__(self):\n",
    "        self.head_val = None\n",
    "    \n",
    "    def print_list(self):\n",
    "        print_val = self.head_val\n",
    "        while print_val:\n",
    "            print(print_val.data)\n",
    "            print_val = print_val.next_val\n",
    "    \n",
    "    def insert_at_beginning(self, new_data):\n",
    "        new_node = Node(new_data)\n",
    "        new_node.next_val = self.head_val\n",
    "        self.head_val = new_node\n",
    "    \n",
    "    def insert_at_end(self, new_data):\n",
    "        new_node = Node(new_data)\n",
    "        if self.head_val is None:\n",
    "            self.head_val = new_node\n",
    "        else:\n",
    "            last_node = self.head_val\n",
    "            while(last_node.next_val):\n",
    "                last_node = last_node.next_val\n",
    "            last_node.next_val = new_node\n",
    "    \n",
    "    def insert_in_between(self, some_node, new_data):\n",
    "        if some_node:\n",
    "            new_node = Node(new_data)\n",
    "            new_node.next_val = some_node.next_val\n",
    "            some_node.next_val = new_node\n",
    "    \n",
    "    def remove_node(self, key):\n",
    "        head_val = self.head_val\n",
    "        if head_val is not None:\n",
    "            if head_val.data == key:\n",
    "                self.head_val = head_val.next_val\n",
    "                head_val = None\n",
    "                return\n",
    "        while(head_val is not None):\n",
    "            if head_val.data == key:\n",
    "                break\n",
    "            prev = head_val\n",
    "            head_val = head_val.next_val\n",
    "        if head_val == None:\n",
    "            return\n",
    "        prev.next_val = head_val.next_val\n",
    "        head_val = None"
   ]
  },
  {
   "cell_type": "markdown",
   "metadata": {},
   "source": [
    "## Problems"
   ]
  },
  {
   "cell_type": "markdown",
   "metadata": {},
   "source": [
    "### 1) Find middle of a Linked list"
   ]
  },
  {
   "cell_type": "code",
   "execution_count": 70,
   "metadata": {},
   "outputs": [
    {
     "name": "stdout",
     "output_type": "stream",
     "text": [
      "0\n",
      "1\n",
      "2\n",
      "3\n",
      "4\n",
      "5\n",
      "6\n",
      "7\n",
      "8\n",
      "9\n"
     ]
    }
   ],
   "source": [
    "list1 = LinkedList()\n",
    "for i in range(10):\n",
    "    list1.insert_at_end(i)\n",
    "list1.print_list()"
   ]
  },
  {
   "cell_type": "code",
   "execution_count": 74,
   "metadata": {},
   "outputs": [],
   "source": [
    "class Node:\n",
    "    def __init__(self, data=None):\n",
    "        self.data = data\n",
    "        self.next_val = None\n",
    "        \n",
    "class LinkedList:\n",
    "    def __init__(self):\n",
    "        self.head_val = None\n",
    "    \n",
    "    def print_list(self):\n",
    "        print_val = self.head_val\n",
    "        while print_val:\n",
    "            print(print_val.data)\n",
    "            print_val = print_val.next_val\n",
    "    \n",
    "    def insert_at_beginning(self, new_data):\n",
    "        new_node = Node(new_data)\n",
    "        new_node.next_val = self.head_val\n",
    "        self.head_val = new_node\n",
    "    \n",
    "    def insert_at_end(self, new_data):\n",
    "        new_node = Node(new_data)\n",
    "        if self.head_val is None:\n",
    "            self.head_val = new_node\n",
    "        else:\n",
    "            last_node = self.head_val\n",
    "            while(last_node.next_val):\n",
    "                last_node = last_node.next_val\n",
    "            last_node.next_val = new_node\n",
    "    \n",
    "    def insert_in_between(self, some_node, new_data):\n",
    "        if some_node:\n",
    "            new_node = Node(new_data)\n",
    "            new_node.next_val = some_node.next_val\n",
    "            some_node.next_val = new_node\n",
    "    \n",
    "    def remove_node(self, key):\n",
    "        head_val = self.head_val\n",
    "        if head_val is not None:\n",
    "            if head_val.data == key:\n",
    "                self.head_val = head_val.next_val\n",
    "                head_val = None\n",
    "                return\n",
    "        while(head_val is not None):\n",
    "            if head_val.data == key:\n",
    "                break\n",
    "            prev = head_val\n",
    "            head_val = head_val.next_val\n",
    "        if head_val == None:\n",
    "            return\n",
    "        prev.next_val = head_val.next_val\n",
    "        head_val = None\n",
    "    \n",
    "    def find_middle(self):\n",
    "        head_1 = self.head_val\n",
    "        head_2 = self.head_val\n",
    "        while head_2 and head_2.next_val:\n",
    "            head_1 = head_1.next_val\n",
    "            head_2 = head_2.next_val.next_val\n",
    "        return head_1"
   ]
  },
  {
   "cell_type": "code",
   "execution_count": 75,
   "metadata": {},
   "outputs": [
    {
     "name": "stdout",
     "output_type": "stream",
     "text": [
      "0\n",
      "1\n",
      "2\n",
      "3\n",
      "4\n",
      "5\n",
      "6\n",
      "7\n",
      "8\n",
      "9\n"
     ]
    }
   ],
   "source": [
    "list1 = LinkedList()\n",
    "for i in range(10):\n",
    "    list1.insert_at_end(i)\n",
    "list1.print_list()"
   ]
  },
  {
   "cell_type": "code",
   "execution_count": 76,
   "metadata": {},
   "outputs": [
    {
     "data": {
      "text/plain": [
       "5"
      ]
     },
     "execution_count": 76,
     "metadata": {},
     "output_type": "execute_result"
    }
   ],
   "source": [
    "list1.find_middle().data"
   ]
  },
  {
   "cell_type": "code",
   "execution_count": null,
   "metadata": {},
   "outputs": [],
   "source": []
  }
 ],
 "metadata": {
  "kernelspec": {
   "display_name": "Python 3",
   "language": "python",
   "name": "python3"
  },
  "language_info": {
   "codemirror_mode": {
    "name": "ipython",
    "version": 3
   },
   "file_extension": ".py",
   "mimetype": "text/x-python",
   "name": "python",
   "nbconvert_exporter": "python",
   "pygments_lexer": "ipython3",
   "version": "3.7.4"
  }
 },
 "nbformat": 4,
 "nbformat_minor": 4
}
